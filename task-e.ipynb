{
 "nbformat": 4,
 "nbformat_minor": 2,
 "metadata": {
  "language_info": {
   "name": "python",
   "codemirror_mode": {
    "name": "ipython",
    "version": 3
   }
  },
  "orig_nbformat": 2,
  "file_extension": ".py",
  "mimetype": "text/x-python",
  "name": "python",
  "npconvert_exporter": "python",
  "pygments_lexer": "ipython3",
  "version": 3
 },
 "cells": [
  {
   "cell_type": "code",
   "execution_count": null,
   "metadata": {},
   "outputs": [
    {
     "evalue": "Error: The Jupyter notebook server failed to launch in time",
     "output_type": "error"
    }
   ],
   "source": [
    "from sklearn.naive_bayes import GaussianNB\n",
    "from sklearn.datasets import load_iris\n",
    "import pandas as pd\n",
    "from sklearn.model_selection import train_test_split\n",
    "iris = load_iris()\n",
    "X_train, X_test, y_train, y_test = train_test_split(iris.data, iris.target, test_size=0.2)\n",
    "clf = GaussianNB().fit(X_train, y_train)\n",
    "print (\"Classifier Score:\", clf.score(X_test, y_test))"
   ]
  },
  {
   "cell_type": "code",
   "execution_count": null,
   "metadata": {},
   "outputs": [
    {
     "evalue": "Error: The Jupyter notebook server failed to launch in time",
     "output_type": "error"
    }
   ],
   "source": [
    "import math\n",
    "import numpy as np\n",
    "\n",
    "class NaiveBayes:\n",
    "    def __init__(self):\n",
    "        self.model = None\n",
    "\n",
    "    # 数学期望\n",
    "    @staticmethod\n",
    "    def mean(X):\n",
    "        \"\"\"计算均值\n",
    "        Param: X : list or np.ndarray\n",
    "        \n",
    "        Return:\n",
    "            avg : float\n",
    "        \n",
    "        \"\"\"\n",
    "        avg = 0.0\n",
    "        # ========= show me your code ==================\n",
    "        \n",
    "        avg = np.mean(X)\n",
    "        \n",
    "        # ========= show me your code ==================\n",
    "        return avg\n",
    "\n",
    "    # 标准差（方差）\n",
    "    def stdev(self, X):\n",
    "        \"\"\"计算标准差\n",
    "        Param: X : list or np.ndarray\n",
    "        \n",
    "        Return:\n",
    "            res : float\n",
    "        \n",
    "        \"\"\"\n",
    "        res = 0.0\n",
    "        # ========= show me your code ==================\n",
    "\n",
    "        res = np.std(X)\n",
    "        \n",
    "        # ========= show me your code ==================\n",
    "        return res\n",
    "        \n",
    "    # 概率密度函数\n",
    "    def gaussian_probability(self, x, mean, stdev):\n",
    "        \"\"\"根据均值和标注差计算x符号该高斯分布的概率\n",
    "        Parameters:\n",
    "        ----------\n",
    "        x : 输入\n",
    "        mean : 均值\n",
    "        stdev : 标准差\n",
    "        \n",
    "        Return:\n",
    "        \n",
    "        res : float， x符合的概率值\n",
    "            \n",
    "        \"\"\"\n",
    "        res = 0.0\n",
    "        # ========= show me your code ==================\n",
    "        \n",
    "        exp = np.exp(-(x-mean)**2/(2*(stdev**2)))\n",
    "        res = 1/(np.sqrt(2*np.pi)*stdev)*exp\n",
    "        \n",
    "        # ========= show me your code ==================\n",
    "        \n",
    "        return res\n",
    "        \n",
    "    # 处理X_train\n",
    "    def summarize(self, train_data):\n",
    "        \"\"\"计算每个类目下对应数据的均值和标准差\n",
    "        Param: train_data : list\n",
    "        \n",
    "        Return : [mean, stdev]\n",
    "        \"\"\"\n",
    "        summaries = []\n",
    "        # ========= show me your code ==================\n",
    "        data = np.array(train_data)\n",
    "        m, n = data.shape\n",
    "        for i in range(n):\n",
    "            summaries.append((self.mean(data[:,i]), self.stdev(data[:,i])))\n",
    "        # ========= show me your code ==================\n",
    "        return summaries\n",
    "\n",
    "    # 分类别求出数学期望和标准差\n",
    "    def fit(self, X, y):\n",
    "        labels = list(set(y))\n",
    "        data = {label: [] for label in labels}\n",
    "        for f, label in zip(X, y):\n",
    "            data[label].append(f)\n",
    "        self.model = {\n",
    "            label: self.summarize(value) for label, value in data.items()\n",
    "        }\n",
    "        return 'gaussianNB train done!'\n",
    "\n",
    "    # 计算概率\n",
    "    def calculate_probabilities(self, input_data):\n",
    "        \"\"\"计算数据在各个高斯分布下的概率\n",
    "        Paramter:\n",
    "        input_data : 输入数据\n",
    "        \n",
    "        Return:\n",
    "        probabilities : {label : p}\n",
    "        \"\"\"\n",
    "        # summaries:{0.0: [(5.0, 0.37),(3.42, 0.40)], 1.0: [(5.8, 0.449),(2.7, 0.27)]}\n",
    "        # input_data:[1.1, 2.2]\n",
    "        # 这里input_data[i]是列数据\n",
    "        probabilities = {}\n",
    "        # ========= show me your code ==================\n",
    "        for label, value in self.model.items():\n",
    "            probabilities[label] = 1\n",
    "            for i, v in enumerate(value):\n",
    "                mean, stdev = v\n",
    "                probabilities[label] *= self.gaussian_probability(input_data[i], mean, stdev)\n",
    "        # ========= show me your code ==================\n",
    "        return probabilities\n",
    "\n",
    "    # 类别\n",
    "    def predict(self, X_test):\n",
    "        # {0.0: 2.9680340789325763e-27, 1.0: 3.5749783019849535e-26}\n",
    "        label = sorted(self.calculate_probabilities(X_test).items(), key=lambda x: x[-1])[-1][0]\n",
    "        return label\n",
    "    # 计算得分\n",
    "    def score(self, X_test, y_test):\n",
    "        right = 0\n",
    "        for X, y in zip(X_test, y_test):\n",
    "            label = self.predict(X)\n",
    "            if label == y:\n",
    "                right += 1\n",
    "\n",
    "        return right / float(len(X_test))"
   ]
  },
  {
   "cell_type": "code",
   "execution_count": null,
   "metadata": {},
   "outputs": [
    {
     "evalue": "Error: The Jupyter notebook server failed to launch in time",
     "output_type": "error"
    }
   ],
   "source": [
    "model = NaiveBayes()"
   ]
  },
  {
   "cell_type": "code",
   "execution_count": null,
   "metadata": {},
   "outputs": [
    {
     "evalue": "Error: The Jupyter notebook server failed to launch in time",
     "output_type": "error"
    }
   ],
   "source": [
    "model.fit(X_train, y_train)"
   ]
  },
  {
   "cell_type": "code",
   "execution_count": null,
   "metadata": {},
   "outputs": [
    {
     "evalue": "Error: The Jupyter notebook server failed to launch in time",
     "output_type": "error"
    }
   ],
   "source": [
    "print(model.predict([4.4,  3.2,  1.3,  0.2]))"
   ]
  },
  {
   "cell_type": "code",
   "execution_count": null,
   "metadata": {},
   "outputs": [
    {
     "evalue": "Error: The Jupyter notebook server failed to launch in time",
     "output_type": "error"
    }
   ],
   "source": [
    "model.score(X_test, y_test)"
   ]
  }
 ]
}